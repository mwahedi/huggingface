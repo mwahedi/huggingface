{
 "cells": [
  {
   "cell_type": "code",
   "execution_count": 1,
   "metadata": {},
   "outputs": [],
   "source": [
    "from transformers import pipeline #make sure to have torch installed"
   ]
  },
  {
   "cell_type": "markdown",
   "metadata": {},
   "source": [
    "`pipeline()` is the most basic object int he Transformers library.\n",
    "Connects a model with its necessary preprocessing and postprocessing steps"
   ]
  },
  {
   "cell_type": "code",
   "execution_count": 2,
   "metadata": {},
   "outputs": [
    {
     "name": "stderr",
     "output_type": "stream",
     "text": [
      "No model was supplied, defaulted to distilbert-base-uncased-finetuned-sst-2-english and revision af0f99b (https://huggingface.co/distilbert-base-uncased-finetuned-sst-2-english).\n",
      "Using a pipeline without specifying a model name and revision in production is not recommended.\n"
     ]
    },
    {
     "data": {
      "application/vnd.jupyter.widget-view+json": {
       "model_id": "8f945cacb2f648e28e2742fd9b370df1",
       "version_major": 2,
       "version_minor": 0
      },
      "text/plain": [
       "Downloading (…)lve/main/config.json:   0%|          | 0.00/629 [00:00<?, ?B/s]"
      ]
     },
     "metadata": {},
     "output_type": "display_data"
    },
    {
     "data": {
      "application/vnd.jupyter.widget-view+json": {
       "model_id": "847c342c6a3a46f9bfdb5d834569db74",
       "version_major": 2,
       "version_minor": 0
      },
      "text/plain": [
       "Downloading model.safetensors:   0%|          | 0.00/268M [00:00<?, ?B/s]"
      ]
     },
     "metadata": {},
     "output_type": "display_data"
    },
    {
     "data": {
      "application/vnd.jupyter.widget-view+json": {
       "model_id": "a14aec018dc349aeb97c06651486196b",
       "version_major": 2,
       "version_minor": 0
      },
      "text/plain": [
       "Downloading (…)okenizer_config.json:   0%|          | 0.00/48.0 [00:00<?, ?B/s]"
      ]
     },
     "metadata": {},
     "output_type": "display_data"
    },
    {
     "data": {
      "application/vnd.jupyter.widget-view+json": {
       "model_id": "07ab201398774a1a85aa3366eb4650b5",
       "version_major": 2,
       "version_minor": 0
      },
      "text/plain": [
       "Downloading (…)solve/main/vocab.txt:   0%|          | 0.00/232k [00:00<?, ?B/s]"
      ]
     },
     "metadata": {},
     "output_type": "display_data"
    },
    {
     "data": {
      "text/plain": [
       "[{'label': 'POSITIVE', 'score': 0.9598049521446228}]"
      ]
     },
     "execution_count": 2,
     "metadata": {},
     "output_type": "execute_result"
    }
   ],
   "source": [
    "classifier = pipeline(\"sentiment-analysis\")\n",
    "classifier(\"I've been waiting for a HuggingFace course my whole life.\")"
   ]
  },
  {
   "cell_type": "code",
   "execution_count": 3,
   "metadata": {},
   "outputs": [
    {
     "data": {
      "text/plain": [
       "[{'label': 'POSITIVE', 'score': 0.9598049521446228},\n",
       " {'label': 'NEGATIVE', 'score': 0.9994558691978455}]"
      ]
     },
     "execution_count": 3,
     "metadata": {},
     "output_type": "execute_result"
    }
   ],
   "source": [
    "# we can use several sentences\n",
    "classifier(\n",
    "    [\"I've been waiting for a HuggingFace course my whole life.\", \"I hate this so much!\"]\n",
    ")"
   ]
  },
  {
   "cell_type": "markdown",
   "metadata": {},
   "source": [
    "When we call classifier without any parameters, it'll select a particular pretrained model that has been fine tuned for the task at hand, i.e. sentiment analysis in english.\\\n",
    "The model needs to be downloaded and cached where you create the `classifier` object. Rerunning the command will use the cached model (no need to redownload).\n",
    "\n",
    "Three main steps if we pass text to a pipeline:\n",
    "- Text is preprocessed into a format the model understands\n",
    "- Preprocessed inputs are passed to the model\n",
    "- Predictions of the model are post processed - helping us to make sense of them.\n",
    "\n",
    "An overview of [available pipelines](https://huggingface.co/docs/transformers/main_classes/pipelines) are:\n",
    "\n",
    "    feature-extraction (get the vector representation of a text)\n",
    "    fill-mask\n",
    "    ner (named entity recognition)\n",
    "    question-answering\n",
    "    sentiment-analysis\n",
    "    summarization\n",
    "    text-generation\n",
    "    translation\n",
    "    zero-shot-classification\n",
    "\n"
   ]
  },
  {
   "cell_type": "markdown",
   "metadata": {},
   "source": [
    "## Zero-shot classification\n",
    "\n",
    "Zero-shot classification uses a pretrained model and use your **own** labels."
   ]
  },
  {
   "cell_type": "code",
   "execution_count": 4,
   "metadata": {},
   "outputs": [
    {
     "name": "stderr",
     "output_type": "stream",
     "text": [
      "No model was supplied, defaulted to facebook/bart-large-mnli and revision c626438 (https://huggingface.co/facebook/bart-large-mnli).\n",
      "Using a pipeline without specifying a model name and revision in production is not recommended.\n"
     ]
    },
    {
     "data": {
      "application/vnd.jupyter.widget-view+json": {
       "model_id": "c882e5ddd50f4a2eb422b2c5cda681b2",
       "version_major": 2,
       "version_minor": 0
      },
      "text/plain": [
       "Downloading (…)lve/main/config.json:   0%|          | 0.00/1.15k [00:00<?, ?B/s]"
      ]
     },
     "metadata": {},
     "output_type": "display_data"
    },
    {
     "data": {
      "application/vnd.jupyter.widget-view+json": {
       "model_id": "f115c457e41f46739fdf1fb2a90907bf",
       "version_major": 2,
       "version_minor": 0
      },
      "text/plain": [
       "Downloading model.safetensors:   0%|          | 0.00/1.63G [00:00<?, ?B/s]"
      ]
     },
     "metadata": {},
     "output_type": "display_data"
    },
    {
     "data": {
      "application/vnd.jupyter.widget-view+json": {
       "model_id": "8e9439a654f6437e9c05b79ac1bffbc9",
       "version_major": 2,
       "version_minor": 0
      },
      "text/plain": [
       "Downloading (…)okenizer_config.json:   0%|          | 0.00/26.0 [00:00<?, ?B/s]"
      ]
     },
     "metadata": {},
     "output_type": "display_data"
    },
    {
     "data": {
      "application/vnd.jupyter.widget-view+json": {
       "model_id": "aa0cc216cfa74a949498ddaa7668c268",
       "version_major": 2,
       "version_minor": 0
      },
      "text/plain": [
       "Downloading (…)olve/main/vocab.json:   0%|          | 0.00/899k [00:00<?, ?B/s]"
      ]
     },
     "metadata": {},
     "output_type": "display_data"
    },
    {
     "data": {
      "application/vnd.jupyter.widget-view+json": {
       "model_id": "e8c6706e05be426e947bed46f28ab9e7",
       "version_major": 2,
       "version_minor": 0
      },
      "text/plain": [
       "Downloading (…)olve/main/merges.txt:   0%|          | 0.00/456k [00:00<?, ?B/s]"
      ]
     },
     "metadata": {},
     "output_type": "display_data"
    },
    {
     "data": {
      "application/vnd.jupyter.widget-view+json": {
       "model_id": "81c7471959034b56aba304dbdbac1201",
       "version_major": 2,
       "version_minor": 0
      },
      "text/plain": [
       "Downloading (…)/main/tokenizer.json:   0%|          | 0.00/1.36M [00:00<?, ?B/s]"
      ]
     },
     "metadata": {},
     "output_type": "display_data"
    },
    {
     "data": {
      "text/plain": [
       "{'sequence': 'This is a course about the Transformers library',\n",
       " 'labels': ['education', 'business', 'politics'],\n",
       " 'scores': [0.8445998430252075, 0.11197364330291748, 0.04342653974890709]}"
      ]
     },
     "execution_count": 4,
     "metadata": {},
     "output_type": "execute_result"
    }
   ],
   "source": [
    "classifier = pipeline(\"zero-shot-classification\")\n",
    "classifier(\n",
    "    \"This is a course about the Transformers library\",\n",
    "    candidate_labels=[\"education\", \"politics\", \"business\"],\n",
    ")"
   ]
  },
  {
   "cell_type": "markdown",
   "metadata": {},
   "source": [
    "## Text generation\n",
    "\n",
    "Juicy!\\\n",
    "The main idea is to provide a prompt and the model will auto-complete it by generating the remaining text. We can control how many different sequences are created with the argument `num_return_sequences` and the total length of the output text with the argument `max_length`."
   ]
  },
  {
   "cell_type": "code",
   "execution_count": 5,
   "metadata": {},
   "outputs": [
    {
     "name": "stderr",
     "output_type": "stream",
     "text": [
      "No model was supplied, defaulted to gpt2 and revision 6c0e608 (https://huggingface.co/gpt2).\n",
      "Using a pipeline without specifying a model name and revision in production is not recommended.\n"
     ]
    },
    {
     "data": {
      "application/vnd.jupyter.widget-view+json": {
       "model_id": "28b3c2046687450e855f3e6c5c2cdd5d",
       "version_major": 2,
       "version_minor": 0
      },
      "text/plain": [
       "Downloading (…)lve/main/config.json:   0%|          | 0.00/665 [00:00<?, ?B/s]"
      ]
     },
     "metadata": {},
     "output_type": "display_data"
    },
    {
     "data": {
      "application/vnd.jupyter.widget-view+json": {
       "model_id": "056860eb551647c98d5cc89597cc1427",
       "version_major": 2,
       "version_minor": 0
      },
      "text/plain": [
       "Downloading model.safetensors:   0%|          | 0.00/548M [00:00<?, ?B/s]"
      ]
     },
     "metadata": {},
     "output_type": "display_data"
    },
    {
     "data": {
      "application/vnd.jupyter.widget-view+json": {
       "model_id": "b53505b725434a52b1be558097438a17",
       "version_major": 2,
       "version_minor": 0
      },
      "text/plain": [
       "Downloading (…)neration_config.json:   0%|          | 0.00/124 [00:00<?, ?B/s]"
      ]
     },
     "metadata": {},
     "output_type": "display_data"
    },
    {
     "data": {
      "application/vnd.jupyter.widget-view+json": {
       "model_id": "99f41fb746b449b0ac885218d310d459",
       "version_major": 2,
       "version_minor": 0
      },
      "text/plain": [
       "Downloading (…)olve/main/vocab.json:   0%|          | 0.00/1.04M [00:00<?, ?B/s]"
      ]
     },
     "metadata": {},
     "output_type": "display_data"
    },
    {
     "data": {
      "application/vnd.jupyter.widget-view+json": {
       "model_id": "799af146cbc445548f4a0d623d9ae316",
       "version_major": 2,
       "version_minor": 0
      },
      "text/plain": [
       "Downloading (…)olve/main/merges.txt:   0%|          | 0.00/456k [00:00<?, ?B/s]"
      ]
     },
     "metadata": {},
     "output_type": "display_data"
    },
    {
     "data": {
      "application/vnd.jupyter.widget-view+json": {
       "model_id": "4273161fa67a43799bb3fe70cd93f494",
       "version_major": 2,
       "version_minor": 0
      },
      "text/plain": [
       "Downloading (…)/main/tokenizer.json:   0%|          | 0.00/1.36M [00:00<?, ?B/s]"
      ]
     },
     "metadata": {},
     "output_type": "display_data"
    },
    {
     "name": "stderr",
     "output_type": "stream",
     "text": [
      "Setting `pad_token_id` to `eos_token_id`:50256 for open-end generation.\n"
     ]
    },
    {
     "data": {
      "text/plain": [
       "[{'generated_text': \"In this course, we will teach you how to create real-time interactive tools for both desktop and mobile computing. We'll discuss how to create an online dashboard-based web application as well as help you create interactive applications from simple scripts. At least\"}]"
      ]
     },
     "execution_count": 5,
     "metadata": {},
     "output_type": "execute_result"
    }
   ],
   "source": [
    "generator = pipeline(\"text-generation\")\n",
    "generator(\"In this course, we will teach you how to\")"
   ]
  },
  {
   "cell_type": "code",
   "execution_count": 6,
   "metadata": {},
   "outputs": [
    {
     "name": "stderr",
     "output_type": "stream",
     "text": [
      "No model was supplied, defaulted to gpt2 and revision 6c0e608 (https://huggingface.co/gpt2).\n",
      "Using a pipeline without specifying a model name and revision in production is not recommended.\n",
      "Setting `pad_token_id` to `eos_token_id`:50256 for open-end generation.\n"
     ]
    },
    {
     "data": {
      "text/plain": [
       "[{'generated_text': 'In this course, we will teach you how to build your own network over your desktop and mobile device.\\n\\nThis course will be provided by NetBSD.\\n\\n\\nInstructions for the introductory computer course and computer related equipment is described later in this'},\n",
       " {'generated_text': 'In this course, we will teach you how to make your own tea in a manner similar to your own, and introduce you to the basics of a traditional Japanese tea recipe.'},\n",
       " {'generated_text': 'In this course, we will teach you how to use your hands to manipulate the shapes of the body using special materials, such as the film atlas of your feet. The material will change in length and shape over time so you can make your own'},\n",
       " {'generated_text': 'In this course, we will teach you how to become more comfortable in your social situations. From your job to your college to your day job, it is important for you to become more relaxed when dealing with your peers and with family and friends.\\n'},\n",
       " {'generated_text': 'In this course, we will teach you how to set up custom themes for our files. We will also cover using the latest features in the application, such as custom font size, FontAwesome Font Awesome, and how to upload images.\\n\\nStep'},\n",
       " {'generated_text': 'In this course, we will teach you how to use this platform, the web-based API, to build complex web applications using Node.js.\\n\\nThe first component will be used to build a new project from scratch. This class is designed'},\n",
       " {'generated_text': 'In this course, we will teach you how to create and share the most memorable and relevant posts that are designed to help you generate more engagement with users on your products.\\n\\nThis course is a continuation of the Introduction to Digital Marketing series, designed'},\n",
       " {'generated_text': 'In this course, we will teach you how to create reusable files using C# and the JavaScript IDE. Our demo is hosted at https://github.com/Mangsuk/Hierarchy/wiki/Using-C#-JavaScript'},\n",
       " {'generated_text': 'In this course, we will teach you how to use your data to achieve a simple mission. We will also give you the ways to get started using our API to get started developing RESTful client applications from your Android SDK to your iOS or macOS.'},\n",
       " {'generated_text': 'In this course, we will teach you how to write HTML5 code using CSS3, JavaScript, and R.\\n\\nFor example, let\\'s say your test class has the following class:\\n\\nClass class=\"TestList\"\\n\\nclass'},\n",
       " {'generated_text': 'In this course, we will teach you how to build strong partnerships between users and the web to get them to invest in a site that they will find useful.\\n\\nWe will show you how to use WebSocket as a tool to communicate with an'},\n",
       " {'generated_text': \"In this course, we will teach you how to create beautiful web pages using CSS and JavaScript. As we're going to take you to the next stage, the questions should come up. Let's get started!\\n\\n1 - Do I Need To\"},\n",
       " {'generated_text': 'In this course, we will teach you how to recognize and interpret the signals that are emitted when you use your flashlight. You will also take the tools used to interpret the signals (and also the steps used to communicate with each other) and make your'},\n",
       " {'generated_text': \"In this course, we will teach you how to use the Google Glass API to interact with your Google Calendar, you will also learn how to play around with Google's smart speakers and how to make a custom gesture to display a picture in a better way\"},\n",
       " {'generated_text': 'In this course, we will teach you how to manipulate the data of your data by using the database in Python.\\n\\nIn this course, you will find information about data in many languages and understand how to manipulate them to create a schema.\\n'},\n",
       " {'generated_text': 'In this course, we will teach you how to develop a more efficient, flexible, innovative, and powerful user interface. In this article, we will take you step by step through the process of building an efficient, flexible, and powerful app. To'},\n",
       " {'generated_text': 'In this course, we will teach you how to take control of your emotions by using the power of emotion to calm an individual.\\n\\nIn each lesson, we will include a quick review of the techniques used in making a self-aware response;'},\n",
       " {'generated_text': 'In this course, we will teach you how to create your own design for the website and how to create content on your own. You will work through the design and design the components to create your website, build the site and implement it using the design'},\n",
       " {'generated_text': 'In this course, we will teach you how to apply the concept of object placement in the context of virtual reality.\\n\\nWe will:\\n\\nSet up a dedicated program where we can download the app we want to use\\n\\nCreate a virtual'},\n",
       " {'generated_text': 'In this course, we will teach you how to work with your existing framework and get started with building your own application on top of it.\\n\\nTo learn more, go here.'}]"
      ]
     },
     "execution_count": 6,
     "metadata": {},
     "output_type": "execute_result"
    }
   ],
   "source": [
    "generator = pipeline(\"text-generation\", num_return_sequences=20)\n",
    "generator(\"In this course, we will teach you how to\")"
   ]
  },
  {
   "cell_type": "code",
   "execution_count": 7,
   "metadata": {},
   "outputs": [
    {
     "name": "stderr",
     "output_type": "stream",
     "text": [
      "No model was supplied, defaulted to gpt2 and revision 6c0e608 (https://huggingface.co/gpt2).\n",
      "Using a pipeline without specifying a model name and revision in production is not recommended.\n",
      "Setting `pad_token_id` to `eos_token_id`:50256 for open-end generation.\n"
     ]
    },
    {
     "data": {
      "text/plain": [
       "[{'generated_text': 'In this course, we will teach you how to use Python objects, how to use C++ classes'}]"
      ]
     },
     "execution_count": 7,
     "metadata": {},
     "output_type": "execute_result"
    }
   ],
   "source": [
    "generator = pipeline(\"text-generation\", max_length=20)\n",
    "generator(\"In this course, we will teach you how to\")"
   ]
  },
  {
   "cell_type": "markdown",
   "metadata": {},
   "source": [
    "## Using any model from the Hub in a pipeline\n",
    "\n",
    "Above we were using standard models (i.e. GPT2 for text generation), but we can use specific models for a pipeline.\\\n",
    "Models are listed in the [Model Hub](https://huggingface.co/models) page.\\\n",
    "In the example below we'll use the [distilgpt2](https://huggingface.co/distilgpt2) model."
   ]
  },
  {
   "cell_type": "code",
   "execution_count": 8,
   "metadata": {},
   "outputs": [
    {
     "data": {
      "application/vnd.jupyter.widget-view+json": {
       "model_id": "d839386ed74a4fc6ab5c47ec958460ec",
       "version_major": 2,
       "version_minor": 0
      },
      "text/plain": [
       "Downloading (…)lve/main/config.json:   0%|          | 0.00/762 [00:00<?, ?B/s]"
      ]
     },
     "metadata": {},
     "output_type": "display_data"
    },
    {
     "data": {
      "application/vnd.jupyter.widget-view+json": {
       "model_id": "d8fc677252af43fcb6a4b67ac7b0b202",
       "version_major": 2,
       "version_minor": 0
      },
      "text/plain": [
       "Downloading model.safetensors:   0%|          | 0.00/353M [00:00<?, ?B/s]"
      ]
     },
     "metadata": {},
     "output_type": "display_data"
    },
    {
     "data": {
      "application/vnd.jupyter.widget-view+json": {
       "model_id": "2178677a1b584e3d9c8086decc18daef",
       "version_major": 2,
       "version_minor": 0
      },
      "text/plain": [
       "Downloading (…)neration_config.json:   0%|          | 0.00/124 [00:00<?, ?B/s]"
      ]
     },
     "metadata": {},
     "output_type": "display_data"
    },
    {
     "data": {
      "application/vnd.jupyter.widget-view+json": {
       "model_id": "ed55787965f54622b187b51feee90cd2",
       "version_major": 2,
       "version_minor": 0
      },
      "text/plain": [
       "Downloading (…)olve/main/vocab.json:   0%|          | 0.00/1.04M [00:00<?, ?B/s]"
      ]
     },
     "metadata": {},
     "output_type": "display_data"
    },
    {
     "data": {
      "application/vnd.jupyter.widget-view+json": {
       "model_id": "54dd96742d4045849b0e9a500d8f15d3",
       "version_major": 2,
       "version_minor": 0
      },
      "text/plain": [
       "Downloading (…)olve/main/merges.txt:   0%|          | 0.00/456k [00:00<?, ?B/s]"
      ]
     },
     "metadata": {},
     "output_type": "display_data"
    },
    {
     "data": {
      "application/vnd.jupyter.widget-view+json": {
       "model_id": "a69bbb4ffdfd4b53b15bc938f2037a62",
       "version_major": 2,
       "version_minor": 0
      },
      "text/plain": [
       "Downloading (…)/main/tokenizer.json:   0%|          | 0.00/1.36M [00:00<?, ?B/s]"
      ]
     },
     "metadata": {},
     "output_type": "display_data"
    },
    {
     "name": "stderr",
     "output_type": "stream",
     "text": [
      "Setting `pad_token_id` to `eos_token_id`:50256 for open-end generation.\n"
     ]
    },
    {
     "data": {
      "text/plain": [
       "[{'generated_text': 'In this course, we will teach you how to use a number of the key elements of the application. Most of which will be required to read and'},\n",
       " {'generated_text': 'In this course, we will teach you how to use your experience building software. In this course, you will learn how to create beautiful software.'}]"
      ]
     },
     "execution_count": 8,
     "metadata": {},
     "output_type": "execute_result"
    }
   ],
   "source": [
    "\n",
    "generator = pipeline(\"text-generation\", model=\"distilgpt2\")\n",
    "generator(\n",
    "    \"In this course, we will teach you how to\",\n",
    "    max_length=30,\n",
    "    num_return_sequences=2,\n",
    ")"
   ]
  },
  {
   "cell_type": "code",
   "execution_count": null,
   "metadata": {},
   "outputs": [],
   "source": []
  }
 ],
 "metadata": {
  "kernelspec": {
   "display_name": "env",
   "language": "python",
   "name": "python3"
  },
  "language_info": {
   "codemirror_mode": {
    "name": "ipython",
    "version": 3
   },
   "file_extension": ".py",
   "mimetype": "text/x-python",
   "name": "python",
   "nbconvert_exporter": "python",
   "pygments_lexer": "ipython3",
   "version": "3.11.5"
  }
 },
 "nbformat": 4,
 "nbformat_minor": 2
}
